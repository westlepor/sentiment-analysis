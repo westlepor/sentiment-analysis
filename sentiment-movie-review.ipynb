{
 "cells": [
  {
   "cell_type": "markdown",
   "metadata": {},
   "source": [
    "# Sentiment Analysis on movie reviews\n",
    "\n",
    "Hi 🙂, if you are seeing this notebook, you have succesfully started your first project on FloydHub 🚀, hooray!!\n",
    "\n",
    "![sentiment](images/sentiment.png)\n",
    "\n",
    "In this notebook we will build a classifier to predict the sentiment of movie reviewes. This type of task is really common for deriving usefull insight about the reputation of the product or the service managed by the company.\n",
    "\n",
    "### Resource\n",
    "\n",
    "The dataset was taken from [Stanford Large Movie Reviews](http://ai.stanford.edu/~amaas/data/sentiment/).\n",
    "\n",
    "The [large movie review dataset](http://ai.stanford.edu/~amaas/data/sentiment/) contains a collection of 50,000 reviews from IMDB. The dataset contains an even number of positive and negative reviews. The authors considered only highly polarized reviews. A negative review has a score ≤ 4 out of 10, and a positive review has a score ≥ 7 out of 10. Neutral reviews are not included in the dataset. The dataset is divided into training and test sets. The training set is the same 25,000 labeled reviews.\n",
    "\n",
    "The **sentiment classification** task consists of predicting the polarity (positive or negative) of a given text.\n",
    "\n",
    "**Note**\n",
    "\n",
    "For executing a Code Cell, click on the Cell and run `Shift + Enter` (shortcut for Run)."
   ]
  },
  {
   "cell_type": "markdown",
   "metadata": {},
   "source": [
    "## Initial Setup\n",
    "\n",
    "Let's start by importing the packages, Setting the training variables and loading the csv file from which get all the data we need."
   ]
  },
  {
   "cell_type": "code",
   "execution_count": 1,
   "metadata": {},
   "outputs": [],
   "source": [
    "! pip -q install seaborn h5py==2.8.0rc1"
   ]
  },
  {
   "cell_type": "code",
   "execution_count": 2,
   "metadata": {},
   "outputs": [
    {
     "name": "stderr",
     "output_type": "stream",
     "text": [
      "Using TensorFlow backend.\n"
     ]
    }
   ],
   "source": [
    "from keras.preprocessing import sequence\n",
    "from keras.models import Sequential\n",
    "from keras.layers import Dense, Embedding, GlobalMaxPooling1D, Flatten, Conv1D, Dropout, Activation\n",
    "from keras.preprocessing.text import Tokenizer\n",
    "\n",
    "import tensorflow as tf\n",
    "import matplotlib.pyplot as plt\n",
    "import numpy as np\n",
    "import pandas as pd\n",
    "\n",
    "import os\n",
    "import re\n",
    "import string\n",
    "\n",
    "# For reproducibility\n",
    "from tensorflow import set_random_seed\n",
    "from numpy.random import seed\n",
    "seed(1)\n",
    "set_random_seed(2)"
   ]
  },
  {
   "cell_type": "markdown",
   "metadata": {},
   "source": [
    "## Configuration"
   ]
  },
  {
   "cell_type": "code",
   "execution_count": 3,
   "metadata": {},
   "outputs": [],
   "source": [
    "# Set training given hardware\n",
    "if tf.test.is_gpu_available():\n",
    "    # GPU\n",
    "    BATCH_SIZE = 128\n",
    "    EPOCHS = 2\n",
    "    VOCAB_SIZE = 30000\n",
    "    MAX_LEN = 500\n",
    "    EMBEDDING = 40\n",
    "    \n",
    "else:\n",
    "    # CPU\n",
    "    BATCH_SIZE = 32\n",
    "    EPOCHS = 2\n",
    "    VOCAB_SIZE = 20000\n",
    "    MAX_LEN = 90\n",
    "    EMBEDDING = 40"
   ]
  },
  {
   "cell_type": "markdown",
   "metadata": {},
   "source": [
    "## Data\n",
    "\n",
    "Let's take a look at data. The plot 'Tokens per sentence' is useful for setting the MAX_LEN variable, since we are building a static computational graph, we need to know the max lenght before starting the computation.\n",
    "\n",
    "The labels are encoded in the dataset: **0** is for *negative* and **1** for a *positive* review."
   ]
  },
  {
   "cell_type": "code",
   "execution_count": 4,
   "metadata": {},
   "outputs": [
    {
     "name": "stdout",
     "output_type": "stream",
     "text": [
      "train shape (rows, columns):  (25000, 2) , validation shape (rows, columns):  (25000, 2)\n",
      "\n",
      "--- First Sample ---\n",
      "Label: 0\n",
      "Text: Watch the Original with the same title from 1944! This made for TV movie, is just god-awful! Although it does use (as far as I can tell) almost the same dialog, it just doesn't work! Is it the acting, the poor directing? OK so it's made for TV, but why watch a bad copy, when you can get your hands on the superb original? Especially as you'll be spoiled to the plot and won't enjoy the original as much, as if you've watched it first! <br /><br />There are a few things that are different from the original (it's shorter for once), but all are for the worse! The actors playing the parts here, just don't fit the bill! You just don't believe them and who could top Edward G. Robinsons performance from the original? If you want, only watch it after you've seen the original and even then you'll be very brave, if you watch it through! It's almost sacrilege!\n"
     ]
    },
    {
     "data": {
      "image/png": "[encoded data removed]",
      "text/plain": [
       "<Figure size 432x288 with 1 Axes>"
      ]
     },
     "metadata": {},
     "output_type": "display_data"
    }
   ],
   "source": [
    "DS_PATH = '/floyd/data/imdb/' # ADD path/to/dataset\n",
    "LABELS = ['negative', 'positive']\n",
    "\n",
    "# Load data\n",
    "train = pd.read_csv(os.path.join(DS_PATH,\"train.tsv\"), sep='\\t')  # EDIT WITH YOUR TRAIN FILE NAME\n",
    "val = pd.read_csv(os.path.join(DS_PATH,\"val.tsv\"), sep='\\t')  # EDIT WITH YOUR VALIDATION FILE NAME\n",
    "\n",
    "print(\"train shape (rows, columns): \", train.shape, \", validation shape (rows, columns): \",  val.shape)\n",
    "\n",
    "# How a row/sample looks like\n",
    "print(\"\\n--- First Sample ---\")\n",
    "print('Label:', train['label'][0])\n",
    "print('Text:', train['text'][0])\n",
    "\n",
    "# Custom Tokenizer\n",
    "re_tok = re.compile(f'([{string.punctuation}“”¨«»®´·º½¾¿¡§£₤‘’])')\n",
    "def tokenize(s): return re_tok.sub(r' \\1 ', s).split()\n",
    "\n",
    "# Plot sentence by lenght\n",
    "plt.hist([len(tokenize(s)) for s in train['text'].values], bins=50)\n",
    "plt.title('Tokens per sentence')\n",
    "plt.xlabel('Len (number of token)')\n",
    "plt.ylabel('# samples')\n",
    "plt.show()"
   ]
  },
  {
   "cell_type": "markdown",
   "metadata": {},
   "source": [
    "## Data Preprocessing\n",
    "\n",
    "Before feeding the data into the model, we have to preprocess the sentences according to the model and type of computation we want to perform. In this Code Cell we will convert the Token to index(this representation will save a lot of memory) and pad the sentence at the same lenght. If a sentence has a number of tokens less than MAX_LEN will be trimmed."
   ]
  },
  {
   "cell_type": "code",
   "execution_count": 5,
   "metadata": {},
   "outputs": [
    {
     "name": "stdout",
     "output_type": "stream",
     "text": [
      "First sample before preprocessing: \n",
      " Watch the Original with the same title from 1944! This made for TV movie, is just god-awful! Although it does use (as far as I can tell) almost the same dialog, it just doesn't work! Is it the acting, the poor directing? OK so it's made for TV, but why watch a bad copy, when you can get your hands on the superb original? Especially as you'll be spoiled to the plot and won't enjoy the original as much, as if you've watched it first! <br /><br />There are a few things that are different from the original (it's shorter for once), but all are for the worse! The actors playing the parts here, just don't fit the bill! You just don't believe them and who could top Edward G. Robinsons performance from the original? If you want, only watch it after you've seen the original and even then you'll be very brave, if you watch it through! It's almost sacrilege! \n",
      "\n",
      "First sample after preprocessing: \n",
      " [  103     1   201    16     1   169   422    36  6436    11    90    15\n",
      "   245    17     6    40   555   370   258     9   124   358    14   227\n",
      "    14    10    67   373   217     1   169   804     9    40   149   154\n",
      "     6     9     1   113     1   335   937   605    35    42    90    15\n",
      "   245    18   135   103     3    75  1036    51    22    67    76   126\n",
      "   953    20     1   894   201   259    14   487    27  3626     5     1\n",
      "   111     2   525   354     1   201    14    73    14    44   871   293\n",
      "     9    83     7     7    47    23     3   168   180    12    23   272\n",
      "    36     1   201    42  5844    15   277    18    29    23    15     1\n",
      "   430     1   153   392     1   528   130    40    89  1180     1   985\n",
      "    22    40    89   261    95     2    34    97   347  2485  1328 21905\n",
      "   236    36     1   201    44    22   178    61   103     9   100   871\n",
      "   107     1   201     2    57    92   487    27    52  2502    44    22\n",
      "   103     9   140    42   217     0     0     0     0     0     0     0\n",
      "     0     0     0     0     0     0     0     0     0     0     0     0\n",
      "     0     0     0     0     0     0     0     0     0     0     0     0\n",
      "     0     0     0     0     0     0     0     0     0     0     0     0\n",
      "     0     0     0     0     0     0     0     0     0     0     0     0\n",
      "     0     0     0     0     0     0     0     0     0     0     0     0\n",
      "     0     0     0     0     0     0     0     0     0     0     0     0\n",
      "     0     0     0     0     0     0     0     0     0     0     0     0\n",
      "     0     0     0     0     0     0     0     0     0     0     0     0\n",
      "     0     0     0     0     0     0     0     0     0     0     0     0\n",
      "     0     0     0     0     0     0     0     0     0     0     0     0\n",
      "     0     0     0     0     0     0     0     0     0     0     0     0\n",
      "     0     0     0     0     0     0     0     0     0     0     0     0\n",
      "     0     0     0     0     0     0     0     0     0     0     0     0\n",
      "     0     0     0     0     0     0     0     0     0     0     0     0\n",
      "     0     0     0     0     0     0     0     0     0     0     0     0\n",
      "     0     0     0     0     0     0     0     0     0     0     0     0\n",
      "     0     0     0     0     0     0     0     0     0     0     0     0\n",
      "     0     0     0     0     0     0     0     0     0     0     0     0\n",
      "     0     0     0     0     0     0     0     0     0     0     0     0\n",
      "     0     0     0     0     0     0     0     0     0     0     0     0\n",
      "     0     0     0     0     0     0     0     0     0     0     0     0\n",
      "     0     0     0     0     0     0     0     0     0     0     0     0\n",
      "     0     0     0     0     0     0     0     0     0     0     0     0\n",
      "     0     0     0     0     0     0     0     0     0     0     0     0\n",
      "     0     0     0     0     0     0     0     0     0     0     0     0\n",
      "     0     0     0     0     0     0     0     0     0     0     0     0\n",
      "     0     0     0     0     0     0     0     0     0     0     0     0\n",
      "     0     0     0     0     0     0     0     0]\n"
     ]
    }
   ],
   "source": [
    "imdb_tokenizer = Tokenizer(num_words=VOCAB_SIZE)\n",
    "imdb_tokenizer.fit_on_texts(train['text'].values)\n",
    "\n",
    "x_train_seq = imdb_tokenizer.texts_to_sequences(train['text'].values)\n",
    "x_val_seq = imdb_tokenizer.texts_to_sequences(val['text'].values)\n",
    "\n",
    "x_train = sequence.pad_sequences(x_train_seq, maxlen=MAX_LEN, padding=\"post\", value=0)\n",
    "x_val = sequence.pad_sequences(x_val_seq, maxlen=MAX_LEN, padding=\"post\", value=0)\n",
    "\n",
    "y_train, y_val = train['label'].values, val['label'].values\n",
    "\n",
    "print('First sample before preprocessing: \\n', train['text'].values[0], '\\n')\n",
    "print('First sample after preprocessing: \\n', x_train[0])"
   ]
  },
  {
   "cell_type": "markdown",
   "metadata": {},
   "source": [
    "## Model\n",
    "\n",
    "We will implement a model similar to Kim Yoon’s [Convolutional Neural Networks for Sentence Classification](https://arxiv.org/abs/1408.5882). We took the model from the [Keras repository](https://github.com/keras-team/keras/blob/master/examples/imdb_cnn.py). \n",
    "\n",
    "![cnn for text](images/cnn.png)\n",
    "*Image from [the paper]((https://arxiv.org/abs/1408.5882)*"
   ]
  },
  {
   "cell_type": "code",
   "execution_count": 6,
   "metadata": {},
   "outputs": [],
   "source": [
    "# Model Parameters - You can play with these\n",
    "\n",
    "FILTERS = 250\n",
    "KERNEL_SIZE = 3\n",
    "HIDDEN_DIMS = 250"
   ]
  },
  {
   "cell_type": "code",
   "execution_count": 7,
   "metadata": {},
   "outputs": [
    {
     "name": "stdout",
     "output_type": "stream",
     "text": [
      "Build model...\n",
      "WARNING:tensorflow:From /usr/local/lib/python3.6/site-packages/tensorflow/python/util/deprecation.py:497: calling conv1d (from tensorflow.python.ops.nn_ops) with data_format=NHWC is deprecated and will be removed in a future version.\n",
      "Instructions for updating:\n",
      "`NHWC` for data_format is deprecated, use `NWC` instead\n",
      "_________________________________________________________________\n",
      "Layer (type)                 Output Shape              Param #   \n",
      "=================================================================\n",
      "embedding_1 (Embedding)      (None, 500, 40)           1200000   \n",
      "_________________________________________________________________\n",
      "dropout_1 (Dropout)          (None, 500, 40)           0         \n",
      "_________________________________________________________________\n",
      "conv1d_1 (Conv1D)            (None, 498, 250)          30250     \n",
      "_________________________________________________________________\n",
      "global_max_pooling1d_1 (Glob (None, 250)               0         \n",
      "_________________________________________________________________\n",
      "dense_1 (Dense)              (None, 250)               62750     \n",
      "_________________________________________________________________\n",
      "dropout_2 (Dropout)          (None, 250)               0         \n",
      "_________________________________________________________________\n",
      "activation_1 (Activation)    (None, 250)               0         \n",
      "_________________________________________________________________\n",
      "dense_2 (Dense)              (None, 1)                 251       \n",
      "_________________________________________________________________\n",
      "activation_2 (Activation)    (None, 1)                 0         \n",
      "=================================================================\n",
      "Total params: 1,293,251\n",
      "Trainable params: 1,293,251\n",
      "Non-trainable params: 0\n",
      "_________________________________________________________________\n"
     ]
    }
   ],
   "source": [
    "# CNN Model\n",
    "print('Build model...')\n",
    "model = Sequential()\n",
    "\n",
    "# we start off with an efficient embedding layer which maps\n",
    "# our vocab indices into embedding_dims dimensions\n",
    "model.add(Embedding(VOCAB_SIZE, EMBEDDING, input_length=MAX_LEN))\n",
    "model.add(Dropout(0.2))\n",
    "\n",
    "# we add a Convolution1D, which will learn filters\n",
    "# word group filters of size filter_length:\n",
    "model.add(Conv1D(FILTERS,\n",
    "                 KERNEL_SIZE,\n",
    "                 padding='valid',\n",
    "                 activation='relu',\n",
    "                 strides=1))\n",
    "\n",
    "# we use max pooling:\n",
    "model.add(GlobalMaxPooling1D())\n",
    "\n",
    "# We add a vanilla hidden layer:\n",
    "model.add(Dense(HIDDEN_DIMS))\n",
    "model.add(Dropout(0.2))\n",
    "model.add(Activation('relu'))\n",
    "\n",
    "# We project onto a single unit output layer, and squash it with a sigmoid:\n",
    "model.add(Dense(1))\n",
    "model.add(Activation('sigmoid'))\n",
    "model.compile(loss='binary_crossentropy', optimizer='adam', metrics=['accuracy'])\n",
    "model.summary()"
   ]
  },
  {
   "cell_type": "markdown",
   "metadata": {},
   "source": [
    "## Train & Evaluate\n",
    "\n",
    "The Training is defined at the beginning by the type of instance on which runs:\n",
    "\n",
    "- On a CPU instance it will train for 2 epoch in about 2 minutes.\n",
    "\n",
    "- On a GPU instance it will train for 2 epoch in about 1 minutes.\n",
    "\n",
    "The model will start overfitting after 2/3 epochs. You should get an accuracy of > 84%."
   ]
  },
  {
   "cell_type": "code",
   "execution_count": 8,
   "metadata": {},
   "outputs": [
    {
     "name": "stdout",
     "output_type": "stream",
     "text": [
      "Train on 22500 samples, validate on 2500 samples\n",
      "Epoch 1/2\n",
      "22500/22500 [==============================] - 60s 3ms/step - loss: 0.5317 - acc: 0.7173 - val_loss: 0.3311 - val_acc: 0.8536\n",
      "Epoch 2/2\n",
      "22500/22500 [==============================] - 6s 256us/step - loss: 0.2570 - acc: 0.8967 - val_loss: 0.2689 - val_acc: 0.8924\n",
      "25000/25000 [==============================] - 2s 73us/step\n",
      "Accuracy:  88.90000000190736\n"
     ]
    }
   ],
   "source": [
    "# fit a model\n",
    "model.fit(x_train, y_train,\n",
    "          batch_size=BATCH_SIZE,\n",
    "          epochs=EPOCHS,\n",
    "          validation_split=0.1)\n",
    "\n",
    "# Evaluate the model\n",
    "score, acc = model.evaluate(x_val, y_val, batch_size=BATCH_SIZE)\n",
    "print('Accuracy: ', acc*100)\n",
    "\n",
    "pred = model.predict_classes(x_val)"
   ]
  },
  {
   "cell_type": "code",
   "execution_count": 9,
   "metadata": {},
   "outputs": [
    {
     "name": "stdout",
     "output_type": "stream",
     "text": [
      "             precision    recall  f1-score   support\n",
      "\n",
      "   negative       0.86      0.91      0.89     11725\n",
      "   positive       0.92      0.87      0.89     13275\n",
      "\n",
      "avg / total       0.89      0.89      0.89     25000\n",
      "\n"
     ]
    },
    {
     "data": {
      "image/png": "[encoded data removed]",
      "text/plain": [
       "<Figure size 720x504 with 2 Axes>"
      ]
     },
     "metadata": {},
     "output_type": "display_data"
    }
   ],
   "source": [
    "# Plot confusion matrix\n",
    "from sklearn.metrics import confusion_matrix\n",
    "from support import print_confusion_matrix\n",
    "cnf_matrix = confusion_matrix(pred, y_val)\n",
    "_ = print_confusion_matrix(cnf_matrix, LABELS)\n",
    "\n",
    "# Print Precision Recall F1-Score Report\n",
    "from sklearn.metrics import classification_report\n",
    "\n",
    "report = classification_report(pred, y_val, target_names=LABELS)\n",
    "print(report)"
   ]
  },
  {
   "cell_type": "markdown",
   "metadata": {},
   "source": [
    "## It's your turn"
   ]
  },
  {
   "cell_type": "markdown",
   "metadata": {},
   "source": [
    "We have prepared some custom Review for testing. Run the code Cell below and type your reviews in the widget, have fun :)\n",
    "\n",
    "- Review: \"Star Wars episode 8 is the best movie I ever seen. Fan Service, Rebel vs Empire, Jedi battles, Luke! AWESOME.\"\n",
    "- Review: \"A completely waste of my time.\"\n",
    "- Review: \"Worst movie ever seen.\"\n",
    "- Review: \"Go to the cinema, now! You cannot miss this masterpiece.\""
   ]
  },
  {
   "cell_type": "code",
   "execution_count": 11,
   "metadata": {},
   "outputs": [
    {
     "data": {
      "application/vnd.jupyter.widget-view+json": {
       "model_id": "727a6d23d52a45f8b81f0fa2d9f42391",
       "version_major": 2,
       "version_minor": 0
      },
      "text/plain": [
       "interactive(children=(Text(value='Type your Review here', description='review'), Button(description='Run Inter…"
      ]
     },
     "metadata": {},
     "output_type": "display_data"
    }
   ],
   "source": [
    "from ipywidgets import interact_manual\n",
    "\n",
    "def get_prediction(review):\n",
    "    # Preprocessing\n",
    "    review_np_array = imdb_tokenizer.texts_to_sequences([review])\n",
    "    review_np_array = sequence.pad_sequences(review_np_array, maxlen=MAX_LEN, padding=\"post\", value=0)\n",
    "    # Prediction\n",
    "    prediction = LABELS[model.predict_classes(review_np_array)[0][0]]\n",
    "    print('REVIEW:', review, ' - PREDICTION:', prediction)\n",
    "\n",
    "interact_manual(get_prediction, review='Type your Review here');"
   ]
  },
  {
   "cell_type": "markdown",
   "metadata": {},
   "source": [
    "## Save the result"
   ]
  },
  {
   "cell_type": "code",
   "execution_count": 12,
   "metadata": {},
   "outputs": [],
   "source": [
    "import pickle\n",
    "\n",
    "# Saving Tokenizer\n",
    "with open('models/tokenizer.pickle', 'wb') as handle:\n",
    "    pickle.dump(imdb_tokenizer, handle, protocol=pickle.HIGHEST_PROTOCOL)\n",
    " \n",
    "# Saving Model Weight\n",
    "model.save_weights('models/cnn_sentiment_weights.h5')"
   ]
  }
 ],
 "metadata": {
  "kernelspec": {
   "display_name": "Python 3",
   "language": "python",
   "name": "python3"
  },
  "language_info": {
   "codemirror_mode": {
    "name": "ipython",
    "version": 3
   },
   "file_extension": ".py",
   "mimetype": "text/x-python",
   "name": "python",
   "nbconvert_exporter": "python",
   "pygments_lexer": "ipython3",
   "version": "3.6.5"
  }
 },
 "nbformat": 4,
 "nbformat_minor": 2
}
